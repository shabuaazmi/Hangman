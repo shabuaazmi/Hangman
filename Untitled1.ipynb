{
 "cells": [
  {
   "cell_type": "code",
   "execution_count": 1,
   "id": "649ba660",
   "metadata": {},
   "outputs": [
    {
     "data": {
      "text/plain": [
       "'\\n******\\n'"
      ]
     },
     "execution_count": 1,
     "metadata": {},
     "output_type": "execute_result"
    }
   ],
   "source": [
    "'''\n",
    "******\n",
    "'''"
   ]
  },
  {
   "cell_type": "code",
   "execution_count": 2,
   "id": "333e3858",
   "metadata": {},
   "outputs": [],
   "source": [
    "from random import choice"
   ]
  },
  {
   "cell_type": "code",
   "execution_count": 3,
   "id": "881fa14d",
   "metadata": {},
   "outputs": [],
   "source": [
    "def word_generator():\n",
    "    with open (\"wordlist.txt\",\"r\") as f:\n",
    "        lines = f.readlines()\n",
    "    f.close()\n",
    "    lines=[i.strip(\"\\n\") for i in lines]\n",
    "    return choice(lines)"
   ]
  },
  {
   "cell_type": "code",
   "execution_count": 4,
   "id": "307c680f",
   "metadata": {},
   "outputs": [
    {
     "data": {
      "text/plain": [
       "'chennai'"
      ]
     },
     "execution_count": 4,
     "metadata": {},
     "output_type": "execute_result"
    }
   ],
   "source": [
    "word_generator()"
   ]
  },
  {
   "cell_type": "code",
   "execution_count": 5,
   "id": "81b2f3f6",
   "metadata": {},
   "outputs": [
    {
     "name": "stdout",
     "output_type": "stream",
     "text": [
      "you're left with {} turns 9\n",
      "\n",
      "Make a guess:c\n",
      "******you're left with {} turns 8\n",
      "\n",
      "Make a guess:p\n",
      "p*****you're left with {} turns 7\n",
      "\n",
      "Make a guess:y\n",
      "py****you're left with {} turns 6\n",
      "\n",
      "Make a guess:o\n",
      "py**o*you're left with {} turns 5\n",
      "\n",
      "Make a guess:n\n",
      "py**onyou're left with {} turns 4\n",
      "\n",
      "Make a guess:t\n",
      "pyt*onyou're left with {} turns 3\n",
      "\n",
      "Make a guess:h\n",
      "python\n",
      "hurry!! You won...\n"
     ]
    }
   ],
   "source": [
    "word = word_generator()\n",
    "guessed = \"\"\n",
    "turns = int(len(word)*1.5)\n",
    "while(True):\n",
    "    print(\"you're left with {} turns\",format(turns))\n",
    "    inp = input(\"\\nMake a guess:\")\n",
    "    turns = turns - 1\n",
    "    if inp in word:\n",
    "        guessed = guessed + inp\n",
    "    unguessed_char = 0\n",
    "    for i in word:\n",
    "        if i in guessed:\n",
    "            print(i,end=\"\")\n",
    "        else:\n",
    "            unguessed_char += 1\n",
    "            print(\"*\",end=\"\")\n",
    "    if unguessed_char == 0:\n",
    "            print(\"\\nhurry!! You won...\")\n",
    "            break\n",
    "    if turns==0:\n",
    "        print(\"\\ntoin toin toin.... You ran out of attempts\")\n",
    "        break"
   ]
  },
  {
   "cell_type": "code",
   "execution_count": null,
   "id": "39b4613c",
   "metadata": {},
   "outputs": [],
   "source": []
  }
 ],
 "metadata": {
  "kernelspec": {
   "display_name": "Python 3 (ipykernel)",
   "language": "python",
   "name": "python3"
  },
  "language_info": {
   "codemirror_mode": {
    "name": "ipython",
    "version": 3
   },
   "file_extension": ".py",
   "mimetype": "text/x-python",
   "name": "python",
   "nbconvert_exporter": "python",
   "pygments_lexer": "ipython3",
   "version": "3.9.6"
  }
 },
 "nbformat": 4,
 "nbformat_minor": 5
}
